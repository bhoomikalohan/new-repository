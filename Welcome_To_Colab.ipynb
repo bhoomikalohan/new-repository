{
  "cells": [
    {
      "cell_type": "markdown",
      "metadata": {
        "id": "view-in-github",
        "colab_type": "text"
      },
      "source": [
        "<a href=\"https://colab.research.google.com/github/bhoomikalohan/new-repository/blob/main/Welcome_To_Colab.ipynb\" target=\"_parent\"><img src=\"https://colab.research.google.com/assets/colab-badge.svg\" alt=\"Open In Colab\"/></a>"
      ]
    },
    {
      "cell_type": "code",
      "source": [
        "pip install pytube\n"
      ],
      "metadata": {
        "colab": {
          "base_uri": "https://localhost:8080/"
        },
        "id": "yLMJkLmUAnFv",
        "outputId": "bfae9195-1e1a-42d7-ebf2-0a103d44c034"
      },
      "execution_count": 6,
      "outputs": [
        {
          "output_type": "stream",
          "name": "stdout",
          "text": [
            "Collecting pytube\n",
            "  Downloading pytube-15.0.0-py3-none-any.whl.metadata (5.0 kB)\n",
            "Downloading pytube-15.0.0-py3-none-any.whl (57 kB)\n",
            "\u001b[2K   \u001b[90m━━━━━━━━━━━━━━━━━━━━━━━━━━━━━━━━━━━━━━━━\u001b[0m \u001b[32m57.6/57.6 kB\u001b[0m \u001b[31m848.5 kB/s\u001b[0m eta \u001b[36m0:00:00\u001b[0m\n",
            "\u001b[?25hInstalling collected packages: pytube\n",
            "Successfully installed pytube-15.0.0\n"
          ]
        }
      ]
    },
    {
      "cell_type": "code",
      "source": [
        "from pytube import YouTube, Search\n",
        "\n",
        "# Step 1: Download 20 videos of \"Sharry Maan\"\n",
        "search_query = \"Sharry Maan\"\n",
        "search_results = Search(search_query).results[:20]\n",
        "\n",
        "for idx, video in enumerate(search_results, start=1):\n",
        "    yt = YouTube(video.watch_url)\n",
        "    stream = yt.streams.filter(only_audio=True).first()\n",
        "    stream.download(filename=f\"video_{idx}.mp4\")"
      ],
      "metadata": {
        "colab": {
          "base_uri": "https://localhost:8080/",
          "height": 490
        },
        "id": "T2XcMeC6Awbp",
        "outputId": "1687a220-477b-4687-dfee-7f87b210b902"
      },
      "execution_count": 7,
      "outputs": [
        {
          "output_type": "stream",
          "name": "stderr",
          "text": [
            "WARNING:pytube.contrib.search:Unexpected renderer encountered.\n",
            "WARNING:pytube.contrib.search:Renderer name: dict_keys(['reelShelfRenderer'])\n",
            "WARNING:pytube.contrib.search:Search term: Sharry Maan\n",
            "WARNING:pytube.contrib.search:Please open an issue at https://github.com/pytube/pytube/issues and provide this log output.\n"
          ]
        },
        {
          "output_type": "error",
          "ename": "RegexMatchError",
          "evalue": "get_throttling_function_name: could not find match for multiple",
          "traceback": [
            "\u001b[0;31m---------------------------------------------------------------------------\u001b[0m",
            "\u001b[0;31mRegexMatchError\u001b[0m                           Traceback (most recent call last)",
            "\u001b[0;32m/usr/local/lib/python3.10/dist-packages/pytube/__main__.py\u001b[0m in \u001b[0;36mfmt_streams\u001b[0;34m(self)\u001b[0m\n\u001b[1;32m    180\u001b[0m         \u001b[0;32mtry\u001b[0m\u001b[0;34m:\u001b[0m\u001b[0;34m\u001b[0m\u001b[0;34m\u001b[0m\u001b[0m\n\u001b[0;32m--> 181\u001b[0;31m             \u001b[0mextract\u001b[0m\u001b[0;34m.\u001b[0m\u001b[0mapply_signature\u001b[0m\u001b[0;34m(\u001b[0m\u001b[0mstream_manifest\u001b[0m\u001b[0;34m,\u001b[0m \u001b[0mself\u001b[0m\u001b[0;34m.\u001b[0m\u001b[0mvid_info\u001b[0m\u001b[0;34m,\u001b[0m \u001b[0mself\u001b[0m\u001b[0;34m.\u001b[0m\u001b[0mjs\u001b[0m\u001b[0;34m)\u001b[0m\u001b[0;34m\u001b[0m\u001b[0;34m\u001b[0m\u001b[0m\n\u001b[0m\u001b[1;32m    182\u001b[0m         \u001b[0;32mexcept\u001b[0m \u001b[0mexceptions\u001b[0m\u001b[0;34m.\u001b[0m\u001b[0mExtractError\u001b[0m\u001b[0;34m:\u001b[0m\u001b[0;34m\u001b[0m\u001b[0;34m\u001b[0m\u001b[0m\n",
            "\u001b[0;32m/usr/local/lib/python3.10/dist-packages/pytube/extract.py\u001b[0m in \u001b[0;36mapply_signature\u001b[0;34m(stream_manifest, vid_info, js)\u001b[0m\n\u001b[1;32m    408\u001b[0m     \"\"\"\n\u001b[0;32m--> 409\u001b[0;31m     \u001b[0mcipher\u001b[0m \u001b[0;34m=\u001b[0m \u001b[0mCipher\u001b[0m\u001b[0;34m(\u001b[0m\u001b[0mjs\u001b[0m\u001b[0;34m=\u001b[0m\u001b[0mjs\u001b[0m\u001b[0;34m)\u001b[0m\u001b[0;34m\u001b[0m\u001b[0;34m\u001b[0m\u001b[0m\n\u001b[0m\u001b[1;32m    410\u001b[0m \u001b[0;34m\u001b[0m\u001b[0m\n",
            "\u001b[0;32m/usr/local/lib/python3.10/dist-packages/pytube/cipher.py\u001b[0m in \u001b[0;36m__init__\u001b[0;34m(self, js)\u001b[0m\n\u001b[1;32m     42\u001b[0m \u001b[0;34m\u001b[0m\u001b[0m\n\u001b[0;32m---> 43\u001b[0;31m         \u001b[0mself\u001b[0m\u001b[0;34m.\u001b[0m\u001b[0mthrottling_plan\u001b[0m \u001b[0;34m=\u001b[0m \u001b[0mget_throttling_plan\u001b[0m\u001b[0;34m(\u001b[0m\u001b[0mjs\u001b[0m\u001b[0;34m)\u001b[0m\u001b[0;34m\u001b[0m\u001b[0;34m\u001b[0m\u001b[0m\n\u001b[0m\u001b[1;32m     44\u001b[0m         \u001b[0mself\u001b[0m\u001b[0;34m.\u001b[0m\u001b[0mthrottling_array\u001b[0m \u001b[0;34m=\u001b[0m \u001b[0mget_throttling_function_array\u001b[0m\u001b[0;34m(\u001b[0m\u001b[0mjs\u001b[0m\u001b[0;34m)\u001b[0m\u001b[0;34m\u001b[0m\u001b[0;34m\u001b[0m\u001b[0m\n",
            "\u001b[0;32m/usr/local/lib/python3.10/dist-packages/pytube/cipher.py\u001b[0m in \u001b[0;36mget_throttling_plan\u001b[0;34m(js)\u001b[0m\n\u001b[1;32m    404\u001b[0m     \"\"\"\n\u001b[0;32m--> 405\u001b[0;31m     \u001b[0mraw_code\u001b[0m \u001b[0;34m=\u001b[0m \u001b[0mget_throttling_function_code\u001b[0m\u001b[0;34m(\u001b[0m\u001b[0mjs\u001b[0m\u001b[0;34m)\u001b[0m\u001b[0;34m\u001b[0m\u001b[0;34m\u001b[0m\u001b[0m\n\u001b[0m\u001b[1;32m    406\u001b[0m \u001b[0;34m\u001b[0m\u001b[0m\n",
            "\u001b[0;32m/usr/local/lib/python3.10/dist-packages/pytube/cipher.py\u001b[0m in \u001b[0;36mget_throttling_function_code\u001b[0;34m(js)\u001b[0m\n\u001b[1;32m    310\u001b[0m     \u001b[0;31m# Begin by extracting the correct function name\u001b[0m\u001b[0;34m\u001b[0m\u001b[0;34m\u001b[0m\u001b[0m\n\u001b[0;32m--> 311\u001b[0;31m     \u001b[0mname\u001b[0m \u001b[0;34m=\u001b[0m \u001b[0mre\u001b[0m\u001b[0;34m.\u001b[0m\u001b[0mescape\u001b[0m\u001b[0;34m(\u001b[0m\u001b[0mget_throttling_function_name\u001b[0m\u001b[0;34m(\u001b[0m\u001b[0mjs\u001b[0m\u001b[0;34m)\u001b[0m\u001b[0;34m)\u001b[0m\u001b[0;34m\u001b[0m\u001b[0;34m\u001b[0m\u001b[0m\n\u001b[0m\u001b[1;32m    312\u001b[0m \u001b[0;34m\u001b[0m\u001b[0m\n",
            "\u001b[0;32m/usr/local/lib/python3.10/dist-packages/pytube/cipher.py\u001b[0m in \u001b[0;36mget_throttling_function_name\u001b[0;34m(js)\u001b[0m\n\u001b[1;32m    295\u001b[0m \u001b[0;34m\u001b[0m\u001b[0m\n\u001b[0;32m--> 296\u001b[0;31m     raise RegexMatchError(\n\u001b[0m\u001b[1;32m    297\u001b[0m         \u001b[0mcaller\u001b[0m\u001b[0;34m=\u001b[0m\u001b[0;34m\"get_throttling_function_name\"\u001b[0m\u001b[0;34m,\u001b[0m \u001b[0mpattern\u001b[0m\u001b[0;34m=\u001b[0m\u001b[0;34m\"multiple\"\u001b[0m\u001b[0;34m\u001b[0m\u001b[0;34m\u001b[0m\u001b[0m\n",
            "\u001b[0;31mRegexMatchError\u001b[0m: get_throttling_function_name: could not find match for multiple",
            "\nDuring handling of the above exception, another exception occurred:\n",
            "\u001b[0;31mRegexMatchError\u001b[0m                           Traceback (most recent call last)",
            "\u001b[0;32m<ipython-input-7-0e8e6aa84e0a>\u001b[0m in \u001b[0;36m<cell line: 7>\u001b[0;34m()\u001b[0m\n\u001b[1;32m      7\u001b[0m \u001b[0;32mfor\u001b[0m \u001b[0midx\u001b[0m\u001b[0;34m,\u001b[0m \u001b[0mvideo\u001b[0m \u001b[0;32min\u001b[0m \u001b[0menumerate\u001b[0m\u001b[0;34m(\u001b[0m\u001b[0msearch_results\u001b[0m\u001b[0;34m,\u001b[0m \u001b[0mstart\u001b[0m\u001b[0;34m=\u001b[0m\u001b[0;36m1\u001b[0m\u001b[0;34m)\u001b[0m\u001b[0;34m:\u001b[0m\u001b[0;34m\u001b[0m\u001b[0;34m\u001b[0m\u001b[0m\n\u001b[1;32m      8\u001b[0m     \u001b[0myt\u001b[0m \u001b[0;34m=\u001b[0m \u001b[0mYouTube\u001b[0m\u001b[0;34m(\u001b[0m\u001b[0mvideo\u001b[0m\u001b[0;34m.\u001b[0m\u001b[0mwatch_url\u001b[0m\u001b[0;34m)\u001b[0m\u001b[0;34m\u001b[0m\u001b[0;34m\u001b[0m\u001b[0m\n\u001b[0;32m----> 9\u001b[0;31m     \u001b[0mstream\u001b[0m \u001b[0;34m=\u001b[0m \u001b[0myt\u001b[0m\u001b[0;34m.\u001b[0m\u001b[0mstreams\u001b[0m\u001b[0;34m.\u001b[0m\u001b[0mfilter\u001b[0m\u001b[0;34m(\u001b[0m\u001b[0monly_audio\u001b[0m\u001b[0;34m=\u001b[0m\u001b[0;32mTrue\u001b[0m\u001b[0;34m)\u001b[0m\u001b[0;34m.\u001b[0m\u001b[0mfirst\u001b[0m\u001b[0;34m(\u001b[0m\u001b[0;34m)\u001b[0m\u001b[0;34m\u001b[0m\u001b[0;34m\u001b[0m\u001b[0m\n\u001b[0m\u001b[1;32m     10\u001b[0m     \u001b[0mstream\u001b[0m\u001b[0;34m.\u001b[0m\u001b[0mdownload\u001b[0m\u001b[0;34m(\u001b[0m\u001b[0mfilename\u001b[0m\u001b[0;34m=\u001b[0m\u001b[0;34mf\"video_{idx}.mp4\"\u001b[0m\u001b[0;34m)\u001b[0m\u001b[0;34m\u001b[0m\u001b[0;34m\u001b[0m\u001b[0m\n",
            "\u001b[0;32m/usr/local/lib/python3.10/dist-packages/pytube/__main__.py\u001b[0m in \u001b[0;36mstreams\u001b[0;34m(self)\u001b[0m\n\u001b[1;32m    294\u001b[0m         \"\"\"\n\u001b[1;32m    295\u001b[0m         \u001b[0mself\u001b[0m\u001b[0;34m.\u001b[0m\u001b[0mcheck_availability\u001b[0m\u001b[0;34m(\u001b[0m\u001b[0;34m)\u001b[0m\u001b[0;34m\u001b[0m\u001b[0;34m\u001b[0m\u001b[0m\n\u001b[0;32m--> 296\u001b[0;31m         \u001b[0;32mreturn\u001b[0m \u001b[0mStreamQuery\u001b[0m\u001b[0;34m(\u001b[0m\u001b[0mself\u001b[0m\u001b[0;34m.\u001b[0m\u001b[0mfmt_streams\u001b[0m\u001b[0;34m)\u001b[0m\u001b[0;34m\u001b[0m\u001b[0;34m\u001b[0m\u001b[0m\n\u001b[0m\u001b[1;32m    297\u001b[0m \u001b[0;34m\u001b[0m\u001b[0m\n\u001b[1;32m    298\u001b[0m     \u001b[0;34m@\u001b[0m\u001b[0mproperty\u001b[0m\u001b[0;34m\u001b[0m\u001b[0;34m\u001b[0m\u001b[0m\n",
            "\u001b[0;32m/usr/local/lib/python3.10/dist-packages/pytube/__main__.py\u001b[0m in \u001b[0;36mfmt_streams\u001b[0;34m(self)\u001b[0m\n\u001b[1;32m    186\u001b[0m             \u001b[0mpytube\u001b[0m\u001b[0;34m.\u001b[0m\u001b[0m__js__\u001b[0m \u001b[0;34m=\u001b[0m \u001b[0;32mNone\u001b[0m\u001b[0;34m\u001b[0m\u001b[0;34m\u001b[0m\u001b[0m\n\u001b[1;32m    187\u001b[0m             \u001b[0mpytube\u001b[0m\u001b[0;34m.\u001b[0m\u001b[0m__js_url__\u001b[0m \u001b[0;34m=\u001b[0m \u001b[0;32mNone\u001b[0m\u001b[0;34m\u001b[0m\u001b[0;34m\u001b[0m\u001b[0m\n\u001b[0;32m--> 188\u001b[0;31m             \u001b[0mextract\u001b[0m\u001b[0;34m.\u001b[0m\u001b[0mapply_signature\u001b[0m\u001b[0;34m(\u001b[0m\u001b[0mstream_manifest\u001b[0m\u001b[0;34m,\u001b[0m \u001b[0mself\u001b[0m\u001b[0;34m.\u001b[0m\u001b[0mvid_info\u001b[0m\u001b[0;34m,\u001b[0m \u001b[0mself\u001b[0m\u001b[0;34m.\u001b[0m\u001b[0mjs\u001b[0m\u001b[0;34m)\u001b[0m\u001b[0;34m\u001b[0m\u001b[0;34m\u001b[0m\u001b[0m\n\u001b[0m\u001b[1;32m    189\u001b[0m \u001b[0;34m\u001b[0m\u001b[0m\n\u001b[1;32m    190\u001b[0m         \u001b[0;31m# build instances of :class:`Stream <Stream>`\u001b[0m\u001b[0;34m\u001b[0m\u001b[0;34m\u001b[0m\u001b[0m\n",
            "\u001b[0;32m/usr/local/lib/python3.10/dist-packages/pytube/extract.py\u001b[0m in \u001b[0;36mapply_signature\u001b[0;34m(stream_manifest, vid_info, js)\u001b[0m\n\u001b[1;32m    407\u001b[0m \u001b[0;34m\u001b[0m\u001b[0m\n\u001b[1;32m    408\u001b[0m     \"\"\"\n\u001b[0;32m--> 409\u001b[0;31m     \u001b[0mcipher\u001b[0m \u001b[0;34m=\u001b[0m \u001b[0mCipher\u001b[0m\u001b[0;34m(\u001b[0m\u001b[0mjs\u001b[0m\u001b[0;34m=\u001b[0m\u001b[0mjs\u001b[0m\u001b[0;34m)\u001b[0m\u001b[0;34m\u001b[0m\u001b[0;34m\u001b[0m\u001b[0m\n\u001b[0m\u001b[1;32m    410\u001b[0m \u001b[0;34m\u001b[0m\u001b[0m\n\u001b[1;32m    411\u001b[0m     \u001b[0;32mfor\u001b[0m \u001b[0mi\u001b[0m\u001b[0;34m,\u001b[0m \u001b[0mstream\u001b[0m \u001b[0;32min\u001b[0m \u001b[0menumerate\u001b[0m\u001b[0;34m(\u001b[0m\u001b[0mstream_manifest\u001b[0m\u001b[0;34m)\u001b[0m\u001b[0;34m:\u001b[0m\u001b[0;34m\u001b[0m\u001b[0;34m\u001b[0m\u001b[0m\n",
            "\u001b[0;32m/usr/local/lib/python3.10/dist-packages/pytube/cipher.py\u001b[0m in \u001b[0;36m__init__\u001b[0;34m(self, js)\u001b[0m\n\u001b[1;32m     41\u001b[0m         ]\n\u001b[1;32m     42\u001b[0m \u001b[0;34m\u001b[0m\u001b[0m\n\u001b[0;32m---> 43\u001b[0;31m         \u001b[0mself\u001b[0m\u001b[0;34m.\u001b[0m\u001b[0mthrottling_plan\u001b[0m \u001b[0;34m=\u001b[0m \u001b[0mget_throttling_plan\u001b[0m\u001b[0;34m(\u001b[0m\u001b[0mjs\u001b[0m\u001b[0;34m)\u001b[0m\u001b[0;34m\u001b[0m\u001b[0;34m\u001b[0m\u001b[0m\n\u001b[0m\u001b[1;32m     44\u001b[0m         \u001b[0mself\u001b[0m\u001b[0;34m.\u001b[0m\u001b[0mthrottling_array\u001b[0m \u001b[0;34m=\u001b[0m \u001b[0mget_throttling_function_array\u001b[0m\u001b[0;34m(\u001b[0m\u001b[0mjs\u001b[0m\u001b[0;34m)\u001b[0m\u001b[0;34m\u001b[0m\u001b[0;34m\u001b[0m\u001b[0m\n\u001b[1;32m     45\u001b[0m \u001b[0;34m\u001b[0m\u001b[0m\n",
            "\u001b[0;32m/usr/local/lib/python3.10/dist-packages/pytube/cipher.py\u001b[0m in \u001b[0;36mget_throttling_plan\u001b[0;34m(js)\u001b[0m\n\u001b[1;32m    403\u001b[0m         \u001b[0mThe\u001b[0m \u001b[0mfull\u001b[0m \u001b[0mfunction\u001b[0m \u001b[0mcode\u001b[0m \u001b[0;32mfor\u001b[0m \u001b[0mcomputing\u001b[0m \u001b[0mthe\u001b[0m \u001b[0mthrottlign\u001b[0m \u001b[0mparameter\u001b[0m\u001b[0;34m.\u001b[0m\u001b[0;34m\u001b[0m\u001b[0;34m\u001b[0m\u001b[0m\n\u001b[1;32m    404\u001b[0m     \"\"\"\n\u001b[0;32m--> 405\u001b[0;31m     \u001b[0mraw_code\u001b[0m \u001b[0;34m=\u001b[0m \u001b[0mget_throttling_function_code\u001b[0m\u001b[0;34m(\u001b[0m\u001b[0mjs\u001b[0m\u001b[0;34m)\u001b[0m\u001b[0;34m\u001b[0m\u001b[0;34m\u001b[0m\u001b[0m\n\u001b[0m\u001b[1;32m    406\u001b[0m \u001b[0;34m\u001b[0m\u001b[0m\n\u001b[1;32m    407\u001b[0m     \u001b[0mtransform_start\u001b[0m \u001b[0;34m=\u001b[0m \u001b[0;34mr\"try{\"\u001b[0m\u001b[0;34m\u001b[0m\u001b[0;34m\u001b[0m\u001b[0m\n",
            "\u001b[0;32m/usr/local/lib/python3.10/dist-packages/pytube/cipher.py\u001b[0m in \u001b[0;36mget_throttling_function_code\u001b[0;34m(js)\u001b[0m\n\u001b[1;32m    309\u001b[0m     \"\"\"\n\u001b[1;32m    310\u001b[0m     \u001b[0;31m# Begin by extracting the correct function name\u001b[0m\u001b[0;34m\u001b[0m\u001b[0;34m\u001b[0m\u001b[0m\n\u001b[0;32m--> 311\u001b[0;31m     \u001b[0mname\u001b[0m \u001b[0;34m=\u001b[0m \u001b[0mre\u001b[0m\u001b[0;34m.\u001b[0m\u001b[0mescape\u001b[0m\u001b[0;34m(\u001b[0m\u001b[0mget_throttling_function_name\u001b[0m\u001b[0;34m(\u001b[0m\u001b[0mjs\u001b[0m\u001b[0;34m)\u001b[0m\u001b[0;34m)\u001b[0m\u001b[0;34m\u001b[0m\u001b[0;34m\u001b[0m\u001b[0m\n\u001b[0m\u001b[1;32m    312\u001b[0m \u001b[0;34m\u001b[0m\u001b[0m\n\u001b[1;32m    313\u001b[0m     \u001b[0;31m# Identify where the function is defined\u001b[0m\u001b[0;34m\u001b[0m\u001b[0;34m\u001b[0m\u001b[0m\n",
            "\u001b[0;32m/usr/local/lib/python3.10/dist-packages/pytube/cipher.py\u001b[0m in \u001b[0;36mget_throttling_function_name\u001b[0;34m(js)\u001b[0m\n\u001b[1;32m    294\u001b[0m                     \u001b[0;32mreturn\u001b[0m \u001b[0marray\u001b[0m\u001b[0;34m[\u001b[0m\u001b[0mint\u001b[0m\u001b[0;34m(\u001b[0m\u001b[0midx\u001b[0m\u001b[0;34m)\u001b[0m\u001b[0;34m]\u001b[0m\u001b[0;34m\u001b[0m\u001b[0;34m\u001b[0m\u001b[0m\n\u001b[1;32m    295\u001b[0m \u001b[0;34m\u001b[0m\u001b[0m\n\u001b[0;32m--> 296\u001b[0;31m     raise RegexMatchError(\n\u001b[0m\u001b[1;32m    297\u001b[0m         \u001b[0mcaller\u001b[0m\u001b[0;34m=\u001b[0m\u001b[0;34m\"get_throttling_function_name\"\u001b[0m\u001b[0;34m,\u001b[0m \u001b[0mpattern\u001b[0m\u001b[0;34m=\u001b[0m\u001b[0;34m\"multiple\"\u001b[0m\u001b[0;34m\u001b[0m\u001b[0;34m\u001b[0m\u001b[0m\n\u001b[1;32m    298\u001b[0m     )\n",
            "\u001b[0;31mRegexMatchError\u001b[0m: get_throttling_function_name: could not find match for multiple"
          ]
        }
      ]
    },
    {
      "cell_type": "code",
      "source": [
        "pip install yt-dlp\n"
      ],
      "metadata": {
        "colab": {
          "base_uri": "https://localhost:8080/"
        },
        "id": "sOMxwUk3BIE4",
        "outputId": "bbb66254-01fc-46d8-ed8d-369f754cf198"
      },
      "execution_count": 6,
      "outputs": [
        {
          "output_type": "stream",
          "name": "stdout",
          "text": [
            "Collecting yt-dlp\n",
            "  Downloading yt_dlp-2024.8.6-py3-none-any.whl.metadata (170 kB)\n",
            "\u001b[?25l     \u001b[90m━━━━━━━━━━━━━━━━━━━━━━━━━━━━━━━━━━━━━━━━\u001b[0m \u001b[32m0.0/170.1 kB\u001b[0m \u001b[31m?\u001b[0m eta \u001b[36m-:--:--\u001b[0m\r\u001b[2K     \u001b[90m━━━━━━━━━━━━━━━━━━━━━━━━━━━━━━━━━━━━━━━━\u001b[0m \u001b[32m170.1/170.1 kB\u001b[0m \u001b[31m9.1 MB/s\u001b[0m eta \u001b[36m0:00:00\u001b[0m\n",
            "\u001b[?25hCollecting brotli (from yt-dlp)\n",
            "  Downloading Brotli-1.1.0-cp310-cp310-manylinux_2_5_x86_64.manylinux1_x86_64.manylinux_2_12_x86_64.manylinux2010_x86_64.whl.metadata (5.5 kB)\n",
            "Requirement already satisfied: certifi in /usr/local/lib/python3.10/dist-packages (from yt-dlp) (2024.7.4)\n",
            "Collecting mutagen (from yt-dlp)\n",
            "  Downloading mutagen-1.47.0-py3-none-any.whl.metadata (1.7 kB)\n",
            "Collecting pycryptodomex (from yt-dlp)\n",
            "  Downloading pycryptodomex-3.20.0-cp35-abi3-manylinux_2_17_x86_64.manylinux2014_x86_64.whl.metadata (3.4 kB)\n",
            "Requirement already satisfied: requests<3,>=2.32.2 in /usr/local/lib/python3.10/dist-packages (from yt-dlp) (2.32.3)\n",
            "Requirement already satisfied: urllib3<3,>=1.26.17 in /usr/local/lib/python3.10/dist-packages (from yt-dlp) (2.0.7)\n",
            "Collecting websockets>=12.0 (from yt-dlp)\n",
            "  Downloading websockets-13.0-cp310-cp310-manylinux_2_5_x86_64.manylinux1_x86_64.manylinux_2_17_x86_64.manylinux2014_x86_64.whl.metadata (6.7 kB)\n",
            "Requirement already satisfied: charset-normalizer<4,>=2 in /usr/local/lib/python3.10/dist-packages (from requests<3,>=2.32.2->yt-dlp) (3.3.2)\n",
            "Requirement already satisfied: idna<4,>=2.5 in /usr/local/lib/python3.10/dist-packages (from requests<3,>=2.32.2->yt-dlp) (3.7)\n",
            "Downloading yt_dlp-2024.8.6-py3-none-any.whl (3.1 MB)\n",
            "\u001b[2K   \u001b[90m━━━━━━━━━━━━━━━━━━━━━━━━━━━━━━━━━━━━━━━━\u001b[0m \u001b[32m3.1/3.1 MB\u001b[0m \u001b[31m64.3 MB/s\u001b[0m eta \u001b[36m0:00:00\u001b[0m\n",
            "\u001b[?25hDownloading websockets-13.0-cp310-cp310-manylinux_2_5_x86_64.manylinux1_x86_64.manylinux_2_17_x86_64.manylinux2014_x86_64.whl (157 kB)\n",
            "\u001b[2K   \u001b[90m━━━━━━━━━━━━━━━━━━━━━━━━━━━━━━━━━━━━━━━━\u001b[0m \u001b[32m157.2/157.2 kB\u001b[0m \u001b[31m11.7 MB/s\u001b[0m eta \u001b[36m0:00:00\u001b[0m\n",
            "\u001b[?25hDownloading Brotli-1.1.0-cp310-cp310-manylinux_2_5_x86_64.manylinux1_x86_64.manylinux_2_12_x86_64.manylinux2010_x86_64.whl (3.0 MB)\n",
            "\u001b[2K   \u001b[90m━━━━━━━━━━━━━━━━━━━━━━━━━━━━━━━━━━━━━━━━\u001b[0m \u001b[32m3.0/3.0 MB\u001b[0m \u001b[31m73.9 MB/s\u001b[0m eta \u001b[36m0:00:00\u001b[0m\n",
            "\u001b[?25hDownloading mutagen-1.47.0-py3-none-any.whl (194 kB)\n",
            "\u001b[2K   \u001b[90m━━━━━━━━━━━━━━━━━━━━━━━━━━━━━━━━━━━━━━━━\u001b[0m \u001b[32m194.4/194.4 kB\u001b[0m \u001b[31m12.0 MB/s\u001b[0m eta \u001b[36m0:00:00\u001b[0m\n",
            "\u001b[?25hDownloading pycryptodomex-3.20.0-cp35-abi3-manylinux_2_17_x86_64.manylinux2014_x86_64.whl (2.1 MB)\n",
            "\u001b[2K   \u001b[90m━━━━━━━━━━━━━━━━━━━━━━━━━━━━━━━━━━━━━━━━\u001b[0m \u001b[32m2.1/2.1 MB\u001b[0m \u001b[31m65.2 MB/s\u001b[0m eta \u001b[36m0:00:00\u001b[0m\n",
            "\u001b[?25hInstalling collected packages: brotli, websockets, pycryptodomex, mutagen, yt-dlp\n",
            "Successfully installed brotli-1.1.0 mutagen-1.47.0 pycryptodomex-3.20.0 websockets-13.0 yt-dlp-2024.8.6\n"
          ]
        }
      ]
    },
    {
      "cell_type": "code",
      "source": [
        "import yt_dlp\n",
        "\n",
        "# Options for downloading audio only\n",
        "ydl_opts = {\n",
        "    'format': 'bestaudio/best',\n",
        "    'postprocessors': [{\n",
        "        'key': 'FFmpegExtractAudio',\n",
        "        'preferredcodec': 'mp3',\n",
        "        'preferredquality': '192',\n",
        "    }],\n",
        "    'outtmpl': 'video_%(playlist_index)s.mp3',\n",
        "    'noplaylist': False\n",
        "}\n",
        "\n",
        "# Download 20 videos of \"Sharry Maan\"\n",
        "with yt_dlp.YoutubeDL(ydl_opts) as ydl:\n",
        "    ydl.download(['ytsearch20:Sharry Maan'])\n"
      ],
      "metadata": {
        "colab": {
          "base_uri": "https://localhost:8080/"
        },
        "id": "PbTpFeVxBLtO",
        "outputId": "48daf036-fed4-4b38-bc8f-0ebe45aa39cc"
      },
      "execution_count": 7,
      "outputs": [
        {
          "output_type": "stream",
          "name": "stdout",
          "text": [
            "[youtube:search] Extracting URL: ytsearch20:Sharry Maan\n",
            "[download] Downloading playlist: Sharry Maan\n",
            "[youtube:search] query \"Sharry Maan\": Downloading web client config\n",
            "[youtube:search] query \"Sharry Maan\" page 1: Downloading API JSON\n",
            "[youtube:search] Playlist Sharry Maan: Downloading 20 items of 20\n",
            "[download] Downloading item 1 of 20\n",
            "[youtube] Extracting URL: https://www.youtube.com/watch?v=uqijSOjPI3Q\n",
            "[youtube] uqijSOjPI3Q: Downloading webpage\n",
            "[youtube] uqijSOjPI3Q: Downloading ios player API JSON\n",
            "[youtube] uqijSOjPI3Q: Downloading web creator player API JSON\n",
            "[youtube] uqijSOjPI3Q: Downloading player a87a9450\n",
            "[youtube] uqijSOjPI3Q: Downloading m3u8 information\n",
            "[info] uqijSOjPI3Q: Downloading 1 format(s): 251\n",
            "[download] Destination: video_01.mp3\n",
            "[download] 100% of    3.15MiB in 00:00:00 at 14.79MiB/s  \n",
            "[ExtractAudio] Destination: video_01.mp3.mp3\n",
            "Deleting original file video_01.mp3 (pass -k to keep)\n",
            "[download] Downloading item 2 of 20\n",
            "[youtube] Extracting URL: https://www.youtube.com/watch?v=LIG3Yl5pZ1Y\n",
            "[youtube] LIG3Yl5pZ1Y: Downloading webpage\n",
            "[youtube] LIG3Yl5pZ1Y: Downloading ios player API JSON\n",
            "[youtube] LIG3Yl5pZ1Y: Downloading web creator player API JSON\n",
            "[youtube] LIG3Yl5pZ1Y: Downloading m3u8 information\n",
            "[info] LIG3Yl5pZ1Y: Downloading 1 format(s): 251\n",
            "[download] Destination: video_02.mp3\n",
            "[download] 100% of    4.13MiB in 00:00:00 at 28.34MiB/s  \n",
            "[ExtractAudio] Destination: video_02.mp3.mp3\n",
            "Deleting original file video_02.mp3 (pass -k to keep)\n",
            "[download] Downloading item 3 of 20\n",
            "[youtube] Extracting URL: https://www.youtube.com/watch?v=1ksdcHn8qgc\n",
            "[youtube] 1ksdcHn8qgc: Downloading webpage\n",
            "[youtube] 1ksdcHn8qgc: Downloading ios player API JSON\n",
            "[youtube] 1ksdcHn8qgc: Downloading web creator player API JSON\n",
            "[youtube] 1ksdcHn8qgc: Downloading m3u8 information\n",
            "[info] 1ksdcHn8qgc: Downloading 1 format(s): 251\n",
            "[download] Destination: video_03.mp3\n",
            "[download] 100% of   47.44MiB in 00:00:01 at 46.53MiB/s  \n",
            "[ExtractAudio] Destination: video_03.mp3.mp3\n",
            "Deleting original file video_03.mp3 (pass -k to keep)\n",
            "[download] Downloading item 4 of 20\n",
            "[youtube] Extracting URL: https://www.youtube.com/watch?v=Kd57YHWqrsI\n",
            "[youtube] Kd57YHWqrsI: Downloading webpage\n",
            "[youtube] Kd57YHWqrsI: Downloading ios player API JSON\n",
            "[youtube] Kd57YHWqrsI: Downloading web creator player API JSON\n",
            "[youtube] Kd57YHWqrsI: Downloading m3u8 information\n",
            "[info] Kd57YHWqrsI: Downloading 1 format(s): 251\n",
            "[download] Destination: video_04.mp3\n",
            "[download] 100% of    5.27MiB in 00:00:00 at 24.82MiB/s  \n",
            "[ExtractAudio] Destination: video_04.mp3.mp3\n",
            "Deleting original file video_04.mp3 (pass -k to keep)\n",
            "[download] Downloading item 5 of 20\n",
            "[youtube] Extracting URL: https://www.youtube.com/watch?v=lKB2AoDopM4\n",
            "[youtube] lKB2AoDopM4: Downloading webpage\n",
            "[youtube] lKB2AoDopM4: Downloading ios player API JSON\n",
            "[youtube] lKB2AoDopM4: Downloading web creator player API JSON\n",
            "[youtube] lKB2AoDopM4: Downloading m3u8 information\n",
            "[info] lKB2AoDopM4: Downloading 1 format(s): 251\n",
            "[download] Destination: video_05.mp3\n",
            "[download] 100% of    4.12MiB in 00:00:00 at 23.90MiB/s  \n",
            "[ExtractAudio] Destination: video_05.mp3.mp3\n",
            "Deleting original file video_05.mp3 (pass -k to keep)\n",
            "[download] Downloading item 6 of 20\n",
            "[youtube] Extracting URL: https://www.youtube.com/watch?v=Oi-UiPqAm1c\n",
            "[youtube] Oi-UiPqAm1c: Downloading webpage\n",
            "[youtube] Oi-UiPqAm1c: Downloading ios player API JSON\n",
            "[youtube] Oi-UiPqAm1c: Downloading web creator player API JSON\n",
            "[youtube] Oi-UiPqAm1c: Downloading m3u8 information\n",
            "[info] Oi-UiPqAm1c: Downloading 1 format(s): 251\n",
            "[download] Destination: video_06.mp3\n",
            "[download] 100% of    4.86MiB in 00:00:00 at 21.78MiB/s  \n",
            "[ExtractAudio] Destination: video_06.mp3.mp3\n",
            "Deleting original file video_06.mp3 (pass -k to keep)\n",
            "[download] Downloading item 7 of 20\n",
            "[youtube] Extracting URL: https://www.youtube.com/watch?v=ZStrnXtQpnM\n",
            "[youtube] ZStrnXtQpnM: Downloading webpage\n",
            "[youtube] ZStrnXtQpnM: Downloading ios player API JSON\n",
            "[youtube] ZStrnXtQpnM: Downloading web creator player API JSON\n",
            "[youtube] ZStrnXtQpnM: Downloading m3u8 information\n",
            "[info] ZStrnXtQpnM: Downloading 1 format(s): 251\n",
            "[download] Destination: video_07.mp3\n",
            "[download] 100% of    3.73MiB in 00:00:00 at 23.86MiB/s  \n",
            "[ExtractAudio] Destination: video_07.mp3.mp3\n",
            "Deleting original file video_07.mp3 (pass -k to keep)\n",
            "[download] Downloading item 8 of 20\n",
            "[youtube] Extracting URL: https://www.youtube.com/watch?v=0qimBipiCV8\n",
            "[youtube] 0qimBipiCV8: Downloading webpage\n",
            "[youtube] 0qimBipiCV8: Downloading ios player API JSON\n",
            "[youtube] 0qimBipiCV8: Downloading web creator player API JSON\n",
            "[youtube] 0qimBipiCV8: Downloading m3u8 information\n",
            "[info] 0qimBipiCV8: Downloading 1 format(s): 251\n",
            "[download] Destination: video_08.mp3\n",
            "[download] 100% of    4.78MiB in 00:00:00 at 29.00MiB/s  \n",
            "[ExtractAudio] Destination: video_08.mp3.mp3\n",
            "Deleting original file video_08.mp3 (pass -k to keep)\n",
            "[download] Downloading item 9 of 20\n",
            "[youtube] Extracting URL: https://www.youtube.com/watch?v=o_4Guei57d4\n",
            "[youtube] o_4Guei57d4: Downloading webpage\n",
            "[youtube] o_4Guei57d4: Downloading ios player API JSON\n",
            "[youtube] o_4Guei57d4: Downloading web creator player API JSON\n",
            "[youtube] o_4Guei57d4: Downloading m3u8 information\n",
            "[info] o_4Guei57d4: Downloading 1 format(s): 251\n",
            "[download] Destination: video_09.mp3\n",
            "[download] 100% of    3.23MiB in 00:00:00 at 20.53MiB/s  \n",
            "[ExtractAudio] Destination: video_09.mp3.mp3\n",
            "Deleting original file video_09.mp3 (pass -k to keep)\n",
            "[download] Downloading item 10 of 20\n",
            "[youtube] Extracting URL: https://www.youtube.com/watch?v=Iwqi0Koy6Yw\n",
            "[youtube] Iwqi0Koy6Yw: Downloading webpage\n",
            "[youtube] Iwqi0Koy6Yw: Downloading ios player API JSON\n",
            "[youtube] Iwqi0Koy6Yw: Downloading web creator player API JSON\n",
            "[youtube] Iwqi0Koy6Yw: Downloading m3u8 information\n",
            "[info] Iwqi0Koy6Yw: Downloading 1 format(s): 251\n",
            "[download] Destination: video_10.mp3\n",
            "[download] 100% of    4.38MiB in 00:00:00 at 27.91MiB/s  \n",
            "[ExtractAudio] Destination: video_10.mp3.mp3\n",
            "Deleting original file video_10.mp3 (pass -k to keep)\n",
            "[download] Downloading item 11 of 20\n",
            "[youtube] Extracting URL: https://www.youtube.com/shorts/pDbIArqW-xI\n",
            "[youtube] pDbIArqW-xI: Downloading webpage\n",
            "[youtube] pDbIArqW-xI: Downloading ios player API JSON\n",
            "[youtube] pDbIArqW-xI: Downloading web creator player API JSON\n",
            "[youtube] pDbIArqW-xI: Downloading m3u8 information\n",
            "[info] pDbIArqW-xI: Downloading 1 format(s): 251\n",
            "[download] Destination: video_11.mp3\n",
            "[download] 100% of  425.15KiB in 00:00:00 at 1.96MiB/s   \n",
            "[ExtractAudio] Destination: video_11.mp3.mp3\n",
            "Deleting original file video_11.mp3 (pass -k to keep)\n",
            "[download] Downloading item 12 of 20\n",
            "[youtube] Extracting URL: https://www.youtube.com/shorts/HQhbyHZ7hTA\n",
            "[youtube] HQhbyHZ7hTA: Downloading webpage\n",
            "[youtube] HQhbyHZ7hTA: Downloading ios player API JSON\n",
            "[youtube] HQhbyHZ7hTA: Downloading web creator player API JSON\n",
            "[youtube] HQhbyHZ7hTA: Downloading m3u8 information\n",
            "[info] HQhbyHZ7hTA: Downloading 1 format(s): 251\n",
            "[download] Destination: video_12.mp3\n",
            "[download] 100% of  632.69KiB in 00:00:00 at 3.01MiB/s   \n",
            "[ExtractAudio] Destination: video_12.mp3.mp3\n",
            "Deleting original file video_12.mp3 (pass -k to keep)\n",
            "[download] Downloading item 13 of 20\n",
            "[youtube] Extracting URL: https://www.youtube.com/shorts/yERf3RqTD1g\n",
            "[youtube] yERf3RqTD1g: Downloading webpage\n",
            "[youtube] yERf3RqTD1g: Downloading ios player API JSON\n",
            "[youtube] yERf3RqTD1g: Downloading web creator player API JSON\n",
            "[youtube] yERf3RqTD1g: Downloading m3u8 information\n",
            "[info] yERf3RqTD1g: Downloading 1 format(s): 251\n",
            "[download] Destination: video_13.mp3\n",
            "[download] 100% of  128.83KiB in 00:00:00 at 728.54KiB/s \n",
            "[ExtractAudio] Destination: video_13.mp3.mp3\n",
            "Deleting original file video_13.mp3 (pass -k to keep)\n",
            "[download] Downloading item 14 of 20\n",
            "[youtube] Extracting URL: https://www.youtube.com/shorts/AgJQfldTrK4\n",
            "[youtube] AgJQfldTrK4: Downloading webpage\n",
            "[youtube] AgJQfldTrK4: Downloading ios player API JSON\n",
            "[youtube] AgJQfldTrK4: Downloading web creator player API JSON\n",
            "[youtube] AgJQfldTrK4: Downloading m3u8 information\n",
            "[info] AgJQfldTrK4: Downloading 1 format(s): 251\n",
            "[download] Destination: video_14.mp3\n",
            "[download] 100% of  740.25KiB in 00:00:00 at 3.49MiB/s   \n",
            "[ExtractAudio] Destination: video_14.mp3.mp3\n",
            "Deleting original file video_14.mp3 (pass -k to keep)\n",
            "[download] Downloading item 15 of 20\n",
            "[youtube] Extracting URL: https://www.youtube.com/shorts/H-FfaHmLwRc\n",
            "[youtube] H-FfaHmLwRc: Downloading webpage\n",
            "[youtube] H-FfaHmLwRc: Downloading ios player API JSON\n",
            "[youtube] H-FfaHmLwRc: Downloading web creator player API JSON\n",
            "[youtube] H-FfaHmLwRc: Downloading m3u8 information\n",
            "[info] H-FfaHmLwRc: Downloading 1 format(s): 251\n",
            "[download] Destination: video_15.mp3\n",
            "[download] 100% of  389.96KiB in 00:00:00 at 1.96MiB/s   \n",
            "[ExtractAudio] Destination: video_15.mp3.mp3\n",
            "Deleting original file video_15.mp3 (pass -k to keep)\n",
            "[download] Downloading item 16 of 20\n",
            "[youtube] Extracting URL: https://www.youtube.com/shorts/TiqPRGtSGzs\n",
            "[youtube] TiqPRGtSGzs: Downloading webpage\n",
            "[youtube] TiqPRGtSGzs: Downloading ios player API JSON\n",
            "[youtube] TiqPRGtSGzs: Downloading web creator player API JSON\n",
            "[youtube] TiqPRGtSGzs: Downloading m3u8 information\n",
            "[info] TiqPRGtSGzs: Downloading 1 format(s): 251\n",
            "[download] Destination: video_16.mp3\n",
            "[download] 100% of  193.93KiB in 00:00:00 at 1.13MiB/s   \n",
            "[ExtractAudio] Destination: video_16.mp3.mp3\n",
            "Deleting original file video_16.mp3 (pass -k to keep)\n",
            "[download] Downloading item 17 of 20\n",
            "[youtube] Extracting URL: https://www.youtube.com/shorts/NIbrvALv_BY\n",
            "[youtube] NIbrvALv_BY: Downloading webpage\n",
            "[youtube] NIbrvALv_BY: Downloading ios player API JSON\n",
            "[youtube] NIbrvALv_BY: Downloading web creator player API JSON\n",
            "[youtube] NIbrvALv_BY: Downloading m3u8 information\n",
            "[info] NIbrvALv_BY: Downloading 1 format(s): 251\n",
            "[download] Destination: video_17.mp3\n",
            "[download] 100% of  793.70KiB in 00:00:00 at 1.08MiB/s   \n",
            "[ExtractAudio] Destination: video_17.mp3.mp3\n",
            "Deleting original file video_17.mp3 (pass -k to keep)\n",
            "[download] Downloading item 18 of 20\n",
            "[youtube] Extracting URL: https://www.youtube.com/shorts/nCgabhIhiMA\n",
            "[youtube] nCgabhIhiMA: Downloading webpage\n",
            "[youtube] nCgabhIhiMA: Downloading ios player API JSON\n",
            "[youtube] nCgabhIhiMA: Downloading web creator player API JSON\n",
            "[youtube] nCgabhIhiMA: Downloading m3u8 information\n",
            "[info] nCgabhIhiMA: Downloading 1 format(s): 251\n",
            "[download] Destination: video_18.mp3\n",
            "[download] 100% of  176.63KiB in 00:00:00 at 922.68KiB/s \n",
            "[ExtractAudio] Destination: video_18.mp3.mp3\n",
            "Deleting original file video_18.mp3 (pass -k to keep)\n",
            "[download] Downloading item 19 of 20\n",
            "[youtube] Extracting URL: https://www.youtube.com/shorts/OWi10I3F2sI\n",
            "[youtube] OWi10I3F2sI: Downloading webpage\n",
            "[youtube] OWi10I3F2sI: Downloading ios player API JSON\n",
            "[youtube] OWi10I3F2sI: Downloading web creator player API JSON\n",
            "[youtube] OWi10I3F2sI: Downloading m3u8 information\n",
            "[info] OWi10I3F2sI: Downloading 1 format(s): 251\n",
            "[download] Destination: video_19.mp3\n",
            "[download] 100% of  556.81KiB in 00:00:00 at 2.45MiB/s   \n",
            "[ExtractAudio] Destination: video_19.mp3.mp3\n",
            "Deleting original file video_19.mp3 (pass -k to keep)\n",
            "[download] Downloading item 20 of 20\n",
            "[youtube] Extracting URL: https://www.youtube.com/shorts/MTgaoHmBwmo\n",
            "[youtube] MTgaoHmBwmo: Downloading webpage\n",
            "[youtube] MTgaoHmBwmo: Downloading ios player API JSON\n",
            "[youtube] MTgaoHmBwmo: Downloading web creator player API JSON\n",
            "[youtube] MTgaoHmBwmo: Downloading m3u8 information\n",
            "[info] MTgaoHmBwmo: Downloading 1 format(s): 251\n",
            "[download] Destination: video_20.mp3\n",
            "[download] 100% of  275.79KiB in 00:00:00 at 587.74KiB/s \n",
            "[ExtractAudio] Destination: video_20.mp3.mp3\n",
            "Deleting original file video_20.mp3 (pass -k to keep)\n",
            "[download] Finished downloading playlist: Sharry Maan\n"
          ]
        }
      ]
    },
    {
      "cell_type": "code",
      "source": [
        "pip install pydub\n"
      ],
      "metadata": {
        "colab": {
          "base_uri": "https://localhost:8080/"
        },
        "id": "3lfiPFlMCXDL",
        "outputId": "d5135a34-e396-429a-f46d-8fc30543b9fb"
      },
      "execution_count": 8,
      "outputs": [
        {
          "output_type": "stream",
          "name": "stdout",
          "text": [
            "Collecting pydub\n",
            "  Downloading pydub-0.25.1-py2.py3-none-any.whl.metadata (1.4 kB)\n",
            "Downloading pydub-0.25.1-py2.py3-none-any.whl (32 kB)\n",
            "Installing collected packages: pydub\n",
            "Successfully installed pydub-0.25.1\n"
          ]
        }
      ]
    },
    {
      "cell_type": "code",
      "source": [
        "from pydub import AudioSegment\n",
        "\n",
        "# Step 3: Cut the first 30 seconds from each audio file\n",
        "for idx in range(1, 21):\n",
        "    audio = AudioSegment.from_mp3(f\"audio_{idx}.mp3\")\n",
        "    trimmed_audio = audio[:30000]  # 30 seconds = 30000 ms\n",
        "    trimmed_audio.export(f\"trimmed_audio_{idx}.mp3\", format=\"mp3\")\n"
      ],
      "metadata": {
        "colab": {
          "base_uri": "https://localhost:8080/",
          "height": 365
        },
        "id": "1OvYzHR2CdWu",
        "outputId": "9fffa7c4-db8d-4bc6-8719-56f73766ca00"
      },
      "execution_count": 11,
      "outputs": [
        {
          "output_type": "error",
          "ename": "FileNotFoundError",
          "evalue": "[Errno 2] No such file or directory: 'audio_1.mp3'",
          "traceback": [
            "\u001b[0;31m---------------------------------------------------------------------------\u001b[0m",
            "\u001b[0;31mFileNotFoundError\u001b[0m                         Traceback (most recent call last)",
            "\u001b[0;32m<ipython-input-11-396eab6d5f94>\u001b[0m in \u001b[0;36m<cell line: 4>\u001b[0;34m()\u001b[0m\n\u001b[1;32m      3\u001b[0m \u001b[0;31m# Step 3: Cut the first 30 seconds from each audio file\u001b[0m\u001b[0;34m\u001b[0m\u001b[0;34m\u001b[0m\u001b[0m\n\u001b[1;32m      4\u001b[0m \u001b[0;32mfor\u001b[0m \u001b[0midx\u001b[0m \u001b[0;32min\u001b[0m \u001b[0mrange\u001b[0m\u001b[0;34m(\u001b[0m\u001b[0;36m1\u001b[0m\u001b[0;34m,\u001b[0m \u001b[0;36m21\u001b[0m\u001b[0;34m)\u001b[0m\u001b[0;34m:\u001b[0m\u001b[0;34m\u001b[0m\u001b[0;34m\u001b[0m\u001b[0m\n\u001b[0;32m----> 5\u001b[0;31m     \u001b[0maudio\u001b[0m \u001b[0;34m=\u001b[0m \u001b[0mAudioSegment\u001b[0m\u001b[0;34m.\u001b[0m\u001b[0mfrom_mp3\u001b[0m\u001b[0;34m(\u001b[0m\u001b[0;34mf\"audio_{idx}.mp3\"\u001b[0m\u001b[0;34m)\u001b[0m\u001b[0;34m\u001b[0m\u001b[0;34m\u001b[0m\u001b[0m\n\u001b[0m\u001b[1;32m      6\u001b[0m     \u001b[0mtrimmed_audio\u001b[0m \u001b[0;34m=\u001b[0m \u001b[0maudio\u001b[0m\u001b[0;34m[\u001b[0m\u001b[0;34m:\u001b[0m\u001b[0;36m30000\u001b[0m\u001b[0;34m]\u001b[0m  \u001b[0;31m# 30 seconds = 30000 ms\u001b[0m\u001b[0;34m\u001b[0m\u001b[0;34m\u001b[0m\u001b[0m\n\u001b[1;32m      7\u001b[0m     \u001b[0mtrimmed_audio\u001b[0m\u001b[0;34m.\u001b[0m\u001b[0mexport\u001b[0m\u001b[0;34m(\u001b[0m\u001b[0;34mf\"trimmed_audio_{idx}.mp3\"\u001b[0m\u001b[0;34m,\u001b[0m \u001b[0mformat\u001b[0m\u001b[0;34m=\u001b[0m\u001b[0;34m\"mp3\"\u001b[0m\u001b[0;34m)\u001b[0m\u001b[0;34m\u001b[0m\u001b[0;34m\u001b[0m\u001b[0m\n",
            "\u001b[0;32m/usr/local/lib/python3.10/dist-packages/pydub/audio_segment.py\u001b[0m in \u001b[0;36mfrom_mp3\u001b[0;34m(cls, file, parameters)\u001b[0m\n\u001b[1;32m    794\u001b[0m     \u001b[0;34m@\u001b[0m\u001b[0mclassmethod\u001b[0m\u001b[0;34m\u001b[0m\u001b[0;34m\u001b[0m\u001b[0m\n\u001b[1;32m    795\u001b[0m     \u001b[0;32mdef\u001b[0m \u001b[0mfrom_mp3\u001b[0m\u001b[0;34m(\u001b[0m\u001b[0mcls\u001b[0m\u001b[0;34m,\u001b[0m \u001b[0mfile\u001b[0m\u001b[0;34m,\u001b[0m \u001b[0mparameters\u001b[0m\u001b[0;34m=\u001b[0m\u001b[0;32mNone\u001b[0m\u001b[0;34m)\u001b[0m\u001b[0;34m:\u001b[0m\u001b[0;34m\u001b[0m\u001b[0;34m\u001b[0m\u001b[0m\n\u001b[0;32m--> 796\u001b[0;31m         \u001b[0;32mreturn\u001b[0m \u001b[0mcls\u001b[0m\u001b[0;34m.\u001b[0m\u001b[0mfrom_file\u001b[0m\u001b[0;34m(\u001b[0m\u001b[0mfile\u001b[0m\u001b[0;34m,\u001b[0m \u001b[0;34m'mp3'\u001b[0m\u001b[0;34m,\u001b[0m \u001b[0mparameters\u001b[0m\u001b[0;34m=\u001b[0m\u001b[0mparameters\u001b[0m\u001b[0;34m)\u001b[0m\u001b[0;34m\u001b[0m\u001b[0;34m\u001b[0m\u001b[0m\n\u001b[0m\u001b[1;32m    797\u001b[0m \u001b[0;34m\u001b[0m\u001b[0m\n\u001b[1;32m    798\u001b[0m     \u001b[0;34m@\u001b[0m\u001b[0mclassmethod\u001b[0m\u001b[0;34m\u001b[0m\u001b[0;34m\u001b[0m\u001b[0m\n",
            "\u001b[0;32m/usr/local/lib/python3.10/dist-packages/pydub/audio_segment.py\u001b[0m in \u001b[0;36mfrom_file\u001b[0;34m(cls, file, format, codec, parameters, start_second, duration, **kwargs)\u001b[0m\n\u001b[1;32m    649\u001b[0m         \u001b[0;32mexcept\u001b[0m \u001b[0mTypeError\u001b[0m\u001b[0;34m:\u001b[0m\u001b[0;34m\u001b[0m\u001b[0;34m\u001b[0m\u001b[0m\n\u001b[1;32m    650\u001b[0m             \u001b[0mfilename\u001b[0m \u001b[0;34m=\u001b[0m \u001b[0;32mNone\u001b[0m\u001b[0;34m\u001b[0m\u001b[0;34m\u001b[0m\u001b[0m\n\u001b[0;32m--> 651\u001b[0;31m         \u001b[0mfile\u001b[0m\u001b[0;34m,\u001b[0m \u001b[0mclose_file\u001b[0m \u001b[0;34m=\u001b[0m \u001b[0m_fd_or_path_or_tempfile\u001b[0m\u001b[0;34m(\u001b[0m\u001b[0mfile\u001b[0m\u001b[0;34m,\u001b[0m \u001b[0;34m'rb'\u001b[0m\u001b[0;34m,\u001b[0m \u001b[0mtempfile\u001b[0m\u001b[0;34m=\u001b[0m\u001b[0;32mFalse\u001b[0m\u001b[0;34m)\u001b[0m\u001b[0;34m\u001b[0m\u001b[0;34m\u001b[0m\u001b[0m\n\u001b[0m\u001b[1;32m    652\u001b[0m \u001b[0;34m\u001b[0m\u001b[0m\n\u001b[1;32m    653\u001b[0m         \u001b[0;32mif\u001b[0m \u001b[0mformat\u001b[0m\u001b[0;34m:\u001b[0m\u001b[0;34m\u001b[0m\u001b[0;34m\u001b[0m\u001b[0m\n",
            "\u001b[0;32m/usr/local/lib/python3.10/dist-packages/pydub/utils.py\u001b[0m in \u001b[0;36m_fd_or_path_or_tempfile\u001b[0;34m(fd, mode, tempfile)\u001b[0m\n\u001b[1;32m     58\u001b[0m \u001b[0;34m\u001b[0m\u001b[0m\n\u001b[1;32m     59\u001b[0m     \u001b[0;32mif\u001b[0m \u001b[0misinstance\u001b[0m\u001b[0;34m(\u001b[0m\u001b[0mfd\u001b[0m\u001b[0;34m,\u001b[0m \u001b[0mbasestring\u001b[0m\u001b[0;34m)\u001b[0m\u001b[0;34m:\u001b[0m\u001b[0;34m\u001b[0m\u001b[0;34m\u001b[0m\u001b[0m\n\u001b[0;32m---> 60\u001b[0;31m         \u001b[0mfd\u001b[0m \u001b[0;34m=\u001b[0m \u001b[0mopen\u001b[0m\u001b[0;34m(\u001b[0m\u001b[0mfd\u001b[0m\u001b[0;34m,\u001b[0m \u001b[0mmode\u001b[0m\u001b[0;34m=\u001b[0m\u001b[0mmode\u001b[0m\u001b[0;34m)\u001b[0m\u001b[0;34m\u001b[0m\u001b[0;34m\u001b[0m\u001b[0m\n\u001b[0m\u001b[1;32m     61\u001b[0m         \u001b[0mclose_fd\u001b[0m \u001b[0;34m=\u001b[0m \u001b[0;32mTrue\u001b[0m\u001b[0;34m\u001b[0m\u001b[0;34m\u001b[0m\u001b[0m\n\u001b[1;32m     62\u001b[0m \u001b[0;34m\u001b[0m\u001b[0m\n",
            "\u001b[0;31mFileNotFoundError\u001b[0m: [Errno 2] No such file or directory: 'audio_1.mp3'"
          ]
        }
      ]
    },
    {
      "cell_type": "code",
      "source": [
        "import os\n",
        "\n",
        "# List all files in the current directory\n",
        "files = os.listdir()\n",
        "print(\"Files in directory:\", files)\n",
        "\n"
      ],
      "metadata": {
        "colab": {
          "base_uri": "https://localhost:8080/"
        },
        "id": "1-3wSZUCDMlZ",
        "outputId": "679ede8f-a5c8-4a97-dde8-ddd27df9ece0"
      },
      "execution_count": 9,
      "outputs": [
        {
          "output_type": "stream",
          "name": "stdout",
          "text": [
            "Files in directory: ['.config', 'video_14.mp3.mp3', 'video_10.mp3.mp3', 'video_06.mp3.mp3', 'video_09.mp3.mp3', 'video_15.mp3.mp3', 'video_04.mp3.mp3', 'video_17.mp3.mp3', 'video_20.mp3.mp3', 'video_03.mp3.mp3', 'video_08.mp3.mp3', 'video_07.mp3.mp3', 'video_01.mp3.mp3', 'video_02.mp3.mp3', 'video_12.mp3.mp3', 'video_11.mp3.mp3', 'video_05.mp3.mp3', 'video_13.mp3.mp3', 'video_19.mp3.mp3', 'video_16.mp3.mp3', 'mashup.zip', 'video_18.mp3.mp3', 'sample_data']\n"
          ]
        }
      ]
    },
    {
      "cell_type": "code",
      "source": [
        "for idx in range(1, 21):\n",
        "    filename = f\"video_{idx}.mp3.mp3\"  # Use the correct pattern\n",
        "    if os.path.exists(filename):\n",
        "        audio = AudioSegment.from_mp3(filename)\n",
        "        trimmed_audio = audio[:30000]  # 30 seconds = 30000 ms\n",
        "        trimmed_audio.export(f\"trimmed_audio_{idx}.mp3\", format=\"mp3\")\n",
        "    else:\n",
        "        print(f\"{filename} not found.\")\n"
      ],
      "metadata": {
        "colab": {
          "base_uri": "https://localhost:8080/",
          "height": 376
        },
        "id": "sOhYz18oDa9z",
        "outputId": "6b83e11f-d3f3-4ce9-82d8-977384718c39"
      },
      "execution_count": 10,
      "outputs": [
        {
          "output_type": "stream",
          "name": "stdout",
          "text": [
            "video_1.mp3.mp3 not found.\n",
            "video_2.mp3.mp3 not found.\n",
            "video_3.mp3.mp3 not found.\n",
            "video_4.mp3.mp3 not found.\n",
            "video_5.mp3.mp3 not found.\n",
            "video_6.mp3.mp3 not found.\n",
            "video_7.mp3.mp3 not found.\n",
            "video_8.mp3.mp3 not found.\n",
            "video_9.mp3.mp3 not found.\n"
          ]
        },
        {
          "output_type": "error",
          "ename": "NameError",
          "evalue": "name 'AudioSegment' is not defined",
          "traceback": [
            "\u001b[0;31m---------------------------------------------------------------------------\u001b[0m",
            "\u001b[0;31mNameError\u001b[0m                                 Traceback (most recent call last)",
            "\u001b[0;32m<ipython-input-10-17879f529913>\u001b[0m in \u001b[0;36m<cell line: 1>\u001b[0;34m()\u001b[0m\n\u001b[1;32m      2\u001b[0m     \u001b[0mfilename\u001b[0m \u001b[0;34m=\u001b[0m \u001b[0;34mf\"video_{idx}.mp3.mp3\"\u001b[0m  \u001b[0;31m# Use the correct pattern\u001b[0m\u001b[0;34m\u001b[0m\u001b[0;34m\u001b[0m\u001b[0m\n\u001b[1;32m      3\u001b[0m     \u001b[0;32mif\u001b[0m \u001b[0mos\u001b[0m\u001b[0;34m.\u001b[0m\u001b[0mpath\u001b[0m\u001b[0;34m.\u001b[0m\u001b[0mexists\u001b[0m\u001b[0;34m(\u001b[0m\u001b[0mfilename\u001b[0m\u001b[0;34m)\u001b[0m\u001b[0;34m:\u001b[0m\u001b[0;34m\u001b[0m\u001b[0;34m\u001b[0m\u001b[0m\n\u001b[0;32m----> 4\u001b[0;31m         \u001b[0maudio\u001b[0m \u001b[0;34m=\u001b[0m \u001b[0mAudioSegment\u001b[0m\u001b[0;34m.\u001b[0m\u001b[0mfrom_mp3\u001b[0m\u001b[0;34m(\u001b[0m\u001b[0mfilename\u001b[0m\u001b[0;34m)\u001b[0m\u001b[0;34m\u001b[0m\u001b[0;34m\u001b[0m\u001b[0m\n\u001b[0m\u001b[1;32m      5\u001b[0m         \u001b[0mtrimmed_audio\u001b[0m \u001b[0;34m=\u001b[0m \u001b[0maudio\u001b[0m\u001b[0;34m[\u001b[0m\u001b[0;34m:\u001b[0m\u001b[0;36m30000\u001b[0m\u001b[0;34m]\u001b[0m  \u001b[0;31m# 30 seconds = 30000 ms\u001b[0m\u001b[0;34m\u001b[0m\u001b[0;34m\u001b[0m\u001b[0m\n\u001b[1;32m      6\u001b[0m         \u001b[0mtrimmed_audio\u001b[0m\u001b[0;34m.\u001b[0m\u001b[0mexport\u001b[0m\u001b[0;34m(\u001b[0m\u001b[0;34mf\"trimmed_audio_{idx}.mp3\"\u001b[0m\u001b[0;34m,\u001b[0m \u001b[0mformat\u001b[0m\u001b[0;34m=\u001b[0m\u001b[0;34m\"mp3\"\u001b[0m\u001b[0;34m)\u001b[0m\u001b[0;34m\u001b[0m\u001b[0;34m\u001b[0m\u001b[0m\n",
            "\u001b[0;31mNameError\u001b[0m: name 'AudioSegment' is not defined"
          ]
        }
      ]
    },
    {
      "cell_type": "code",
      "source": [
        "from pydub import AudioSegment  # Import AudioSegment at the start\n",
        "import os\n",
        "\n",
        "# Process the first 9 files\n",
        "for idx in range(1, 10):\n",
        "    filename = f\"/content/video_0{idx}.mp3.mp3\"  # Include the correct path\n",
        "    if os.path.exists(filename):\n",
        "        audio = AudioSegment.from_mp3(filename)\n",
        "        trimmed_audio = audio[:30000]  # 30 seconds = 30000 ms\n",
        "        trimmed_audio.export(f\"trimmed_audio_{idx}.mp3\", format=\"mp3\")\n",
        "    else:\n",
        "        print(f\"{filename} not found.\")\n",
        "\n",
        "# Process the next 11 files\n",
        "for idx in range(10, 21):\n",
        "    filename = f\"/content/video_{idx}.mp3.mp3\"  # Include the correct path\n",
        "    if os.path.exists(filename):\n",
        "        audio = AudioSegment.from_mp3(filename)\n",
        "        trimmed_audio = audio[:30000]  # 30 seconds = 30000 ms\n",
        "        trimmed_audio.export(f\"trimmed_audio_{idx}.mp3\", format=\"mp3\")\n",
        "    else:\n",
        "       print(f\"{filename} not found.\")\n",
        "\n"
      ],
      "metadata": {
        "id": "d21VCs8cEe0g"
      },
      "execution_count": 13,
      "outputs": []
    },
    {
      "cell_type": "code",
      "source": [
        "# Step 4: Merge all audios into a single file\n",
        "combined = AudioSegment.empty()\n",
        "\n",
        "for idx in range(1, 21):\n",
        "    audio = AudioSegment.from_mp3(f\"trimmed_audio_{idx}.mp3\")\n",
        "    combined += audio\n",
        "\n",
        "combined.export(\"mashup.mp3\", format=\"mp3\")\n"
      ],
      "metadata": {
        "colab": {
          "base_uri": "https://localhost:8080/"
        },
        "id": "3X2sdYWyF2U_",
        "outputId": "ddf96705-4d03-4340-b01b-aad6d6d78fd5"
      },
      "execution_count": 14,
      "outputs": [
        {
          "output_type": "execute_result",
          "data": {
            "text/plain": [
              "<_io.BufferedRandom name='mashup.mp3'>"
            ]
          },
          "metadata": {},
          "execution_count": 14
        }
      ]
    },
    {
      "cell_type": "code",
      "source": [
        "import zipfile\n",
        "\n",
        "# Step 5: Zip the mashup file\n",
        "with zipfile.ZipFile(\"mashup.zip\", \"w\") as zipf:\n",
        "    zipf.write(\"mashup.mp3\")\n"
      ],
      "metadata": {
        "id": "2oJ1AtOiGSIA"
      },
      "execution_count": 15,
      "outputs": []
    },
    {
      "cell_type": "code",
      "source": [
        "import smtplib\n",
        "from email.message import EmailMessage\n",
        "\n",
        "# Step 6: Send the zip file via email\n",
        "email_user = \"bhoomikalohan@gmail.com\"\n",
        "email_password = \"Babyanuj01\"  # Use the App Password generated from Google\n",
        "to_email = \"bhatiaa.shauryaa@gmail.com\"\n",
        "\n",
        "msg = EmailMessage()\n",
        "msg['Subject'] = 'Your Mashup File'\n",
        "msg['From'] = email_user\n",
        "msg['To'] = to_email\n",
        "\n",
        "msg.set_content(\"Please find the mashup file attached.\")\n",
        "\n",
        "try:\n",
        "    with open(\"mashup.zip\", \"rb\") as f:\n",
        "        file_data = f.read()\n",
        "        file_name = f.name\n",
        "\n",
        "    msg.add_attachment(file_data, maintype='application', subtype='octet-stream', filename=file_name)\n",
        "\n",
        "    with smtplib.SMTP_SSL('smtp.gmail.com', 465) as smtp:\n",
        "        smtp.login(email_user, email_password)\n",
        "        smtp.send_message(msg)\n",
        "\n",
        "    print(\"Email sent successfully!\")\n",
        "\n",
        "except FileNotFoundError:\n",
        "    print(\"Error: The file 'mashup.zip' was not found.\")\n",
        "\n",
        "except Exception as e:\n",
        "    print(f\"An error occurred: {e}\")\n",
        "\n"
      ],
      "metadata": {
        "colab": {
          "base_uri": "https://localhost:8080/"
        },
        "id": "zy0MMwZOGWD7",
        "outputId": "c0086d10-567a-4e03-8429-137f71f36939"
      },
      "execution_count": 1,
      "outputs": [
        {
          "output_type": "stream",
          "name": "stdout",
          "text": [
            "Error: The file 'mashup.zip' was not found.\n"
          ]
        }
      ]
    },
    {
      "cell_type": "code",
      "source": [
        "import zipfile\n",
        "import os\n",
        "\n",
        "# List of files to include in the zip\n",
        "files_to_zip = [f\"trimmed_audio_{idx}.mp3\" for idx in range(1, 21)]\n",
        "\n",
        "with zipfile.ZipFile('mashup.zip', 'w') as zipf:\n",
        "    for file in files_to_zip:\n",
        "        if os.path.exists(file):\n",
        "            zipf.write(file)\n",
        "        else:\n",
        "            print(f\"{file} not found, skipping.\")\n",
        "\n",
        "print(\"mashup.zip created successfully.\")\n"
      ],
      "metadata": {
        "colab": {
          "base_uri": "https://localhost:8080/"
        },
        "id": "0X2pbkrudevl",
        "outputId": "fcbd6dbc-d23e-4f7f-b0b5-65cb012e2813"
      },
      "execution_count": 16,
      "outputs": [
        {
          "output_type": "stream",
          "name": "stdout",
          "text": [
            "mashup.zip created successfully.\n"
          ]
        }
      ]
    },
    {
      "cell_type": "code",
      "source": [
        "import smtplib\n",
        "from email.message import EmailMessage\n",
        "\n",
        "# Step 6: Send the zip file via email\n",
        "email_user = \"bhoomikalohan@gmail.com\"\n",
        "email_password = \"B12345\"  # Use the App Password generated from Google\n",
        "to_email = \"bhatiaa.shauryaa@gmail.com\"\n",
        "\n",
        "msg = EmailMessage()\n",
        "msg['Subject'] = 'Your Mashup File'\n",
        "msg['From'] = email_user\n",
        "msg['To'] = to_email\n",
        "\n",
        "msg.set_content(\"Please find the mashup file attached.\")\n",
        "\n",
        "try:\n",
        "    with open(\"mashup.zip\", \"rb\") as f:\n",
        "        file_data = f.read()\n",
        "        file_name = f.name\n",
        "\n",
        "    msg.add_attachment(file_data, maintype='application', subtype='octet-stream', filename=file_name)\n",
        "\n",
        "    with smtplib.SMTP_SSL('smtp.gmail.com', 465) as smtp:\n",
        "        smtp.login(email_user, email_password)\n",
        "        smtp.send_message(msg)\n",
        "\n",
        "    print(\"Email sent successfully!\")\n",
        "\n",
        "except FileNotFoundError:\n",
        "    print(\"Error: The file 'mashup.zip' was not found.\")\n",
        "\n",
        "except Exception as e:\n",
        "    print(f\"An error occurred: {e}\")"
      ],
      "metadata": {
        "colab": {
          "base_uri": "https://localhost:8080/"
        },
        "id": "ig8ygNeZg1t1",
        "outputId": "f3c7b3f4-0223-4bda-ad31-81da80d84ef8"
      },
      "execution_count": 18,
      "outputs": [
        {
          "output_type": "stream",
          "name": "stdout",
          "text": [
            "An error occurred: (535, b'5.7.8 Username and Password not accepted. For more information, go to\\n5.7.8  https://support.google.com/mail/?p=BadCredentials d75a77b69052e-454fdfc16e0sm15515991cf.7 - gsmtp')\n"
          ]
        }
      ]
    }
  ],
  "metadata": {
    "colab": {
      "name": "Welcome To Colab",
      "provenance": [],
      "include_colab_link": true
    },
    "kernelspec": {
      "display_name": "Python 3",
      "name": "python3"
    }
  },
  "nbformat": 4,
  "nbformat_minor": 0
}